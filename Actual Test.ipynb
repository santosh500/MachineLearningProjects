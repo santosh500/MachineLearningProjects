{
 "cells": [
  {
   "cell_type": "code",
   "execution_count": 90,
   "metadata": {
    "collapsed": true
   },
   "outputs": [],
   "source": [
    "import torch\n",
    "import torch.nn as nn\n",
    "import torchvision.transforms as transforms\n",
    "import torch.utils.data as data\n",
    "import torchvision"
   ]
  },
  {
   "cell_type": "code",
   "execution_count": 91,
   "metadata": {},
   "outputs": [],
   "source": [
    "import os as os\n",
    "from PIL import Image\n",
    "from scipy import misc\n",
    "import matplotlib.pyplot as plt"
   ]
  },
  {
   "cell_type": "code",
   "execution_count": 92,
   "metadata": {},
   "outputs": [
    {
     "name": "stdout",
     "output_type": "stream",
     "text": [
      "<class 'numpy.ndarray'>\n",
      "1918\n"
     ]
    }
   ],
   "source": [
    "im = Image.open('./Matrix/000aa097d423_01.jpg')\n",
    "pic = misc.imread('./Matrix/000aa097d423_01.jpg')\n",
    "print(type(pic))\n",
    "plt.imshow(pic)\n",
    "Terragon = torch.tensor(pic)\n",
    "print(len(Terragon[0]))"
   ]
  },
  {
   "cell_type": "code",
   "execution_count": 39,
   "metadata": {},
   "outputs": [
    {
     "name": "stdout",
     "output_type": "stream",
     "text": [
      "./Matrix/000aa097d423_01.jpg\n",
      "<class 'numpy.ndarray'>\n",
      "./Matrix/000aa097d423_02.jpg\n",
      "<class 'numpy.ndarray'>\n",
      "./Matrix/000aa097d423_03.jpg\n",
      "<class 'numpy.ndarray'>\n",
      "./Matrix/000aa097d423_04.jpg\n",
      "<class 'numpy.ndarray'>\n",
      "./Matrix/000aa097d423_05.jpg\n",
      "<class 'numpy.ndarray'>\n",
      "./Matrix/000f19f6e7d4_01.jpg\n",
      "<class 'numpy.ndarray'>\n",
      "./Matrix/000f19f6e7d4_02.jpg\n",
      "<class 'numpy.ndarray'>\n",
      "./Matrix/000f19f6e7d4_03.jpg\n",
      "<class 'numpy.ndarray'>\n",
      "./Matrix/000f19f6e7d4_04.jpg\n",
      "<class 'numpy.ndarray'>\n",
      "./Matrix/000f19f6e7d4_05.jpg\n",
      "<class 'numpy.ndarray'>\n"
     ]
    }
   ],
   "source": [
    "matrix1 = []\n",
    "for files in os.listdir('./Matrix'):\n",
    "    print('./Matrix/'+files)\n",
    "    im = Image.open('./Matrix/'+files)\n",
    "    pic = misc.imread('./Matrix/'+files)\n",
    "    print(type(pic))"
   ]
  },
  {
   "cell_type": "code",
   "execution_count": 61,
   "metadata": {},
   "outputs": [],
   "source": [
    "imagenet_data = torchvision.datasets.ImageFolder(root='./Matrix/',transform=transforms.Compose([transforms.ToTensor()]))"
   ]
  },
  {
   "cell_type": "code",
   "execution_count": 102,
   "metadata": {},
   "outputs": [
    {
     "name": "stdout",
     "output_type": "stream",
     "text": [
      "10\n",
      "2\n",
      "3\n",
      "1280\n",
      "1918\n",
      "<class 'tuple'>\n",
      "<class 'torch.Tensor'>\n",
      "<class 'torch.Tensor'>\n",
      "<class 'torch.Tensor'>\n"
     ]
    }
   ],
   "source": [
    "print(len(imagenet_data))\n",
    "print(len(imagenet_data[0]))\n",
    "print(len(imagenet_data[0][0]))\n",
    "print(len(imagenet_data[0][0][2]))\n",
    "print(len(imagenet_data[0][0][2][0]))\n",
    "print(type(imagenet_data[0]))\n",
    "print(type(imagenet_data[0][0]))\n",
    "print(type(imagenet_data[0][0][2]))\n",
    "print(type(imagenet_data[0][0][2][0]))"
   ]
  },
  {
   "cell_type": "code",
   "execution_count": 103,
   "metadata": {},
   "outputs": [],
   "source": [
    "imagenet_data2 = torchvision.datasets.ImageFolder(root='./Matrix/')"
   ]
  },
  {
   "cell_type": "code",
   "execution_count": 104,
   "metadata": {},
   "outputs": [
    {
     "name": "stdout",
     "output_type": "stream",
     "text": [
      "Dataset ImageFolder\n",
      "    Number of datapoints: 10\n",
      "    Root Location: ./Matrix/\n",
      "    Transforms (if any): None\n",
      "    Target Transforms (if any): None\n"
     ]
    }
   ],
   "source": [
    "print(imagenet_data2)"
   ]
  },
  {
   "cell_type": "code",
   "execution_count": 105,
   "metadata": {},
   "outputs": [
    {
     "name": "stdout",
     "output_type": "stream",
     "text": [
      "tensor([0.9961, 0.9961, 0.9961,  ..., 1.0000, 1.0000, 1.0000])\n"
     ]
    }
   ],
   "source": [
    "print(imagenet_data[0][0][0][0])"
   ]
  },
  {
   "cell_type": "code",
   "execution_count": null,
   "metadata": {
    "collapsed": true
   },
   "outputs": [],
   "source": []
  }
 ],
 "metadata": {
  "kernelspec": {
   "display_name": "Python 3",
   "language": "python",
   "name": "python3"
  },
  "language_info": {
   "codemirror_mode": {
    "name": "ipython",
    "version": 3
   },
   "file_extension": ".py",
   "mimetype": "text/x-python",
   "name": "python",
   "nbconvert_exporter": "python",
   "pygments_lexer": "ipython3",
   "version": "3.6.3"
  }
 },
 "nbformat": 4,
 "nbformat_minor": 2
}
