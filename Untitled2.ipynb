{
 "cells": [
  {
   "cell_type": "code",
   "execution_count": 36,
   "metadata": {},
   "outputs": [],
   "source": [
    "import numpy as np\n",
    "import pandas as pd\n",
    "import os as os\n",
    "import cv2\n",
    "import shutil\n",
    "from PIL import Image, ImageDraw"
   ]
  },
  {
   "cell_type": "code",
   "execution_count": 43,
   "metadata": {},
   "outputs": [
    {
     "name": "stdout",
     "output_type": "stream",
     "text": [
      "./train20cdf5b5d0ce1\n",
      "0cdf5b5d0ce1_01.jpg\n",
      "Original Dimensions :  (1280, 1918, 3)\n",
      "Original Dimensions :  (128, 128, 3)\n",
      "0cdf5b5d0ce1_02.jpg\n",
      "Original Dimensions :  (1280, 1918, 3)\n",
      "Original Dimensions :  (128, 128, 3)\n",
      "0cdf5b5d0ce1_03.jpg\n",
      "Original Dimensions :  (1280, 1918, 3)\n",
      "Original Dimensions :  (128, 128, 3)\n",
      "0cdf5b5d0ce1_04.jpg\n",
      "Original Dimensions :  (1280, 1918, 3)\n",
      "Original Dimensions :  (128, 128, 3)\n",
      "0cdf5b5d0ce1_05.jpg\n",
      "Original Dimensions :  (1280, 1918, 3)\n",
      "Original Dimensions :  (128, 128, 3)\n",
      "0cdf5b5d0ce1_06.jpg\n",
      "Original Dimensions :  (1280, 1918, 3)\n",
      "Original Dimensions :  (128, 128, 3)\n",
      "0cdf5b5d0ce1_07.jpg\n",
      "Original Dimensions :  (1280, 1918, 3)\n",
      "Original Dimensions :  (128, 128, 3)\n",
      "0cdf5b5d0ce1_08.jpg\n",
      "Original Dimensions :  (1280, 1918, 3)\n",
      "Original Dimensions :  (128, 128, 3)\n",
      "0cdf5b5d0ce1_09.jpg\n",
      "Original Dimensions :  (1280, 1918, 3)\n",
      "Original Dimensions :  (128, 128, 3)\n",
      "0cdf5b5d0ce1_10.jpg\n",
      "Original Dimensions :  (1280, 1918, 3)\n",
      "Original Dimensions :  (128, 128, 3)\n",
      "0cdf5b5d0ce1_11.jpg\n",
      "Original Dimensions :  (1280, 1918, 3)\n",
      "Original Dimensions :  (128, 128, 3)\n",
      "0cdf5b5d0ce1_12.jpg\n",
      "Original Dimensions :  (1280, 1918, 3)\n",
      "Original Dimensions :  (128, 128, 3)\n",
      "0cdf5b5d0ce1_13.jpg\n",
      "Original Dimensions :  (1280, 1918, 3)\n",
      "Original Dimensions :  (128, 128, 3)\n",
      "0cdf5b5d0ce1_14.jpg\n",
      "Original Dimensions :  (1280, 1918, 3)\n",
      "Original Dimensions :  (128, 128, 3)\n",
      "0cdf5b5d0ce1_15.jpg\n",
      "Original Dimensions :  (1280, 1918, 3)\n",
      "Original Dimensions :  (128, 128, 3)\n",
      "0cdf5b5d0ce1_16.jpg\n",
      "Original Dimensions :  (1280, 1918, 3)\n",
      "Original Dimensions :  (128, 128, 3)\n"
     ]
    }
   ],
   "source": [
    "for files in os.listdir('./train2'):\n",
    "    str1 = str('./train2') + files\n",
    "    print(str1)\n",
    "    for files2 in os.listdir('./train2/' + files):\n",
    "        print(files2)\n",
    "        img = cv2.imread('./train2/' + files + '/' + files2, cv2.IMREAD_UNCHANGED)\n",
    "        print('Original Dimensions : ',img.shape)\n",
    "        width = 128\n",
    "        height = 128\n",
    "        #height = img.shape[0] # keep original height\n",
    "        dim = (width, height)\n",
    "        # resize image\n",
    "        resized = cv2.resize(img, dim, interpolation = cv2.INTER_AREA)\n",
    "        print('Original Dimensions : ',resized.shape)\n",
    "        cv2.imwrite('./train3/'+files2,resized)"
   ]
  },
  {
   "cell_type": "code",
   "execution_count": null,
   "metadata": {
    "collapsed": true
   },
   "outputs": [],
   "source": []
  }
 ],
 "metadata": {
  "kernelspec": {
   "display_name": "Python 3",
   "language": "python",
   "name": "python3"
  },
  "language_info": {
   "codemirror_mode": {
    "name": "ipython",
    "version": 3
   },
   "file_extension": ".py",
   "mimetype": "text/x-python",
   "name": "python",
   "nbconvert_exporter": "python",
   "pygments_lexer": "ipython3",
   "version": "3.6.3"
  }
 },
 "nbformat": 4,
 "nbformat_minor": 2
}
